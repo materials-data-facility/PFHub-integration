{
 "cells": [
  {
   "cell_type": "code",
   "execution_count": 90,
   "metadata": {},
   "outputs": [],
   "source": [
    "import yaml\n",
    "yaml_string = \"\"\"\n",
    "benchmark:\n",
    "  id: 1c\n",
    "  version: 1\n",
    "data:\n",
    "- name: run_time\n",
    "  values:\n",
    "  - sim_time: 10000.0\n",
    "    wall_time: 231.957\n",
    "- name: memory_usage\n",
    "  values:\n",
    "  - unit: MB\n",
    "    value: 277.19\n",
    "- format:\n",
    "    parse:\n",
    "      F: number\n",
    "      time: number\n",
    "    type: csv\n",
    "  name: free_energy\n",
    "  transform:\n",
    "  - as: free_energy\n",
    "    expr: datum.F\n",
    "    type: formula\n",
    "  - as: y\n",
    "    expr: datum.free_energy\n",
    "    type: formula\n",
    "  - as: x\n",
    "    expr: datum.time\n",
    "    type: formula\n",
    "  type: line\n",
    "  url: https://gist.githubusercontent.com/anonymous/898a197718cf02b643e78841e54dba41/raw/9c69964d354165708d508e3dc6655fb941d83da9/problem_1c_out.csv\n",
    "metadata:\n",
    "  author:\n",
    "    email: daniel.schwen@inl.gov\n",
    "    first: Daniel\n",
    "    github_id: dschwen\n",
    "    last: Schwen\n",
    "  hardware:\n",
    "    acc_architecture: none\n",
    "    clock_rate: 0\n",
    "    cores: 4\n",
    "    cpu_architecture: x86_64\n",
    "    nodes: 1\n",
    "  implementation:\n",
    "    container_url: ''\n",
    "    name: moose\n",
    "    repo:\n",
    "      url: https://github.com/dschwen/CHiMaD_Hackathon\n",
    "      version: f6ec84570\n",
    "  summary: Benchmark with MOOSE on macPro, T-shaped no-flux domain\n",
    "  timestamp: 6/1/2017\n",
    "\n",
    "\"\"\"\n",
    "y = yaml.load(yaml_string)"
   ]
  },
  {
   "cell_type": "code",
   "execution_count": 91,
   "metadata": {},
   "outputs": [],
   "source": [
    "from titlecase import titlecase\n",
    "\n",
    "def mc_pfhub(data):\n",
    "    mc_data = { \"title\": \"\",\n",
    "                \"authors\": [],\n",
    "                \"institutions\":[],\n",
    "                \"data_locations\":[],}\n",
    "    \n",
    "    # Build Dataset Title\n",
    "    mc_data['title'] = titlecase(\"{} - PFHub Benchmark {} : version {}\".format(data['metadata']['summary'], \n",
    "                                                                               data['benchmark']['id'],\n",
    "                                                                               data['benchmark']['version']))\n",
    "    # Set Institutions\n",
    "    mc_data['institutions'] = []\n",
    "    \n",
    "    # Grab data locations from the 'data' block\n",
    "    #[x for x in L if x is not None]\n",
    "    mc_data['data_locations'] = [d.get('url') \n",
    "                                 for d in data['data']\n",
    "                                 if d.get('url')  is not None]\n",
    "    \n",
    "    # Get authors\n",
    "    mc_data['authors'] = [\"{} {}\".format(data['metadata']['author']['first'],\n",
    "                             data['metadata']['author']['last'] )]\n",
    "    \n",
    "    return mc_data"
   ]
  },
  {
   "cell_type": "code",
   "execution_count": 92,
   "metadata": {},
   "outputs": [
    {
     "data": {
      "text/plain": [
       "{'authors': ['Daniel Schwen'],\n",
       " 'data_locations': ['https://gist.githubusercontent.com/anonymous/898a197718cf02b643e78841e54dba41/raw/9c69964d354165708d508e3dc6655fb941d83da9/problem_1c_out.csv'],\n",
       " 'institutions': [],\n",
       " 'title': 'Benchmark With MOOSE on macPro, T-Shaped No-Flux Domain - PFHub Benchmark 1c : Version 1'}"
      ]
     },
     "execution_count": 92,
     "metadata": {},
     "output_type": "execute_result"
    }
   ],
   "source": [
    "mc_pfhub(y)"
   ]
  },
  {
   "cell_type": "code",
   "execution_count": null,
   "metadata": {},
   "outputs": [],
   "source": []
  }
 ],
 "metadata": {
  "kernelspec": {
   "display_name": "Python 3",
   "language": "python",
   "name": "python3"
  },
  "language_info": {
   "codemirror_mode": {
    "name": "ipython",
    "version": 3
   },
   "file_extension": ".py",
   "mimetype": "text/x-python",
   "name": "python",
   "nbconvert_exporter": "python",
   "pygments_lexer": "ipython3",
   "version": "3.6.1"
  }
 },
 "nbformat": 4,
 "nbformat_minor": 2
}
